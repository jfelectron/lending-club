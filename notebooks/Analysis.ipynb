{
 "cells": [
  {
   "cell_type": "code",
   "execution_count": 85,
   "metadata": {
    "collapsed": false
   },
   "outputs": [],
   "source": [
    "%matplotlib inline\n",
    "from IPython.display import display\n",
    "import matplotlib\n",
    "import matplotlib.pyplot as plt\n",
    "import matplotlib.pylab as pylab\n",
    "from scipy.stats import ttest_ind\n",
    "import seaborn as sns\n",
    "from lending_club.loan_prediction.data_transformer import DataTransformer\n",
    "from lending_club.utils.chi2 import compute_risk_ratio,chi2_stats\n",
    "\n",
    "\n"
   ]
  },
  {
   "cell_type": "code",
   "execution_count": null,
   "metadata": {
    "collapsed": true
   },
   "outputs": [],
   "source": [
    "la = DataTransformer()"
   ]
  },
  {
   "cell_type": "markdown",
   "metadata": {},
   "source": [
    "## Loan Status Percentages by State##"
   ]
  },
  {
   "cell_type": "code",
   "execution_count": 33,
   "metadata": {
    "collapsed": false
   },
   "outputs": [
    {
     "data": {
      "text/html": [
       "<div>\n",
       "<table border=\"1\" class=\"dataframe\">\n",
       "  <thead>\n",
       "    <tr style=\"text-align: right;\">\n",
       "      <th>loan_status</th>\n",
       "      <th>Charged Off</th>\n",
       "      <th>Current</th>\n",
       "      <th>Default</th>\n",
       "      <th>Fully Paid</th>\n",
       "      <th>In Grace Period</th>\n",
       "      <th>Late (16-30 days)</th>\n",
       "      <th>Late (31-120 days)</th>\n",
       "    </tr>\n",
       "    <tr>\n",
       "      <th>addr_state</th>\n",
       "      <th></th>\n",
       "      <th></th>\n",
       "      <th></th>\n",
       "      <th></th>\n",
       "      <th></th>\n",
       "      <th></th>\n",
       "      <th></th>\n",
       "    </tr>\n",
       "  </thead>\n",
       "  <tbody>\n",
       "    <tr>\n",
       "      <th>AK</th>\n",
       "      <td>0.089099</td>\n",
       "      <td>0.646751</td>\n",
       "      <td>0.000000</td>\n",
       "      <td>0.226415</td>\n",
       "      <td>0.014675</td>\n",
       "      <td>0.004193</td>\n",
       "      <td>0.018868</td>\n",
       "    </tr>\n",
       "    <tr>\n",
       "      <th>AL</th>\n",
       "      <td>0.094258</td>\n",
       "      <td>0.659248</td>\n",
       "      <td>0.000000</td>\n",
       "      <td>0.200486</td>\n",
       "      <td>0.014214</td>\n",
       "      <td>0.005424</td>\n",
       "      <td>0.026370</td>\n",
       "    </tr>\n",
       "    <tr>\n",
       "      <th>AR</th>\n",
       "      <td>0.085343</td>\n",
       "      <td>0.685596</td>\n",
       "      <td>0.000000</td>\n",
       "      <td>0.183376</td>\n",
       "      <td>0.010787</td>\n",
       "      <td>0.007931</td>\n",
       "      <td>0.026967</td>\n",
       "    </tr>\n",
       "    <tr>\n",
       "      <th>AZ</th>\n",
       "      <td>0.075258</td>\n",
       "      <td>0.654639</td>\n",
       "      <td>0.000103</td>\n",
       "      <td>0.231443</td>\n",
       "      <td>0.010206</td>\n",
       "      <td>0.004330</td>\n",
       "      <td>0.024021</td>\n",
       "    </tr>\n",
       "    <tr>\n",
       "      <th>CA</th>\n",
       "      <td>0.075843</td>\n",
       "      <td>0.647890</td>\n",
       "      <td>0.000017</td>\n",
       "      <td>0.238380</td>\n",
       "      <td>0.010763</td>\n",
       "      <td>0.004891</td>\n",
       "      <td>0.022216</td>\n",
       "    </tr>\n",
       "  </tbody>\n",
       "</table>\n",
       "</div>"
      ],
      "text/plain": [
       "loan_status  Charged Off   Current   Default  Fully Paid  In Grace Period  \\\n",
       "addr_state                                                                  \n",
       "AK              0.089099  0.646751  0.000000    0.226415         0.014675   \n",
       "AL              0.094258  0.659248  0.000000    0.200486         0.014214   \n",
       "AR              0.085343  0.685596  0.000000    0.183376         0.010787   \n",
       "AZ              0.075258  0.654639  0.000103    0.231443         0.010206   \n",
       "CA              0.075843  0.647890  0.000017    0.238380         0.010763   \n",
       "\n",
       "loan_status  Late (16-30 days)  Late (31-120 days)  \n",
       "addr_state                                          \n",
       "AK                    0.004193            0.018868  \n",
       "AL                    0.005424            0.026370  \n",
       "AR                    0.007931            0.026967  \n",
       "AZ                    0.004330            0.024021  \n",
       "CA                    0.004891            0.022216  "
      ]
     },
     "execution_count": 33,
     "metadata": {},
     "output_type": "execute_result"
    }
   ],
   "source": [
    "status_counts = la.original_data[[\"addr_state\",\"loan_status\"]].groupby([\"addr_state\",\"loan_status\"]).size().unstack().fillna(0)\n",
    "norm_status_counts = status_counts.div(status_counts.sum(axis=1),axis=0)\n",
    "norm_status_counts.head()"
   ]
  },
  {
   "cell_type": "markdown",
   "metadata": {},
   "source": [
    "## Does your state of residence increase your risk for Charge Off?? ##"
   ]
  },
  {
   "cell_type": "code",
   "execution_count": 45,
   "metadata": {
    "collapsed": false
   },
   "outputs": [
    {
     "data": {
      "image/png": "[encoded data removed]",
      "text/plain": [
       "<matplotlib.figure.Figure at 0x1131d3f60>"
      ]
     },
     "metadata": {},
     "output_type": "display_data"
    }
   ],
   "source": [
    "aax = norm_status_counts[\"Charged Off\"].plot(figsize=(20,10),kind=\"bar\")\n",
    "_=ax.set_title(\"Percentage of Charged Off Loans by State\")"
   ]
  },
  {
   "cell_type": "markdown",
   "metadata": {},
   "source": [
    "We observe five fold variation in the percentage of loans that have been Charged Off from state to state. We can examine whether these apparent differences represent a significant increase in risk to being Charged Off as opposed to fully paid. "
   ]
  },
  {
   "cell_type": "code",
   "execution_count": 73,
   "metadata": {
    "collapsed": false
   },
   "outputs": [
    {
     "data": {
      "text/html": [
       "<div>\n",
       "<table border=\"1\" class=\"dataframe\">\n",
       "  <thead>\n",
       "    <tr style=\"text-align: right;\">\n",
       "      <th></th>\n",
       "      <th>Cohort Stats</th>\n",
       "    </tr>\n",
       "  </thead>\n",
       "  <tbody>\n",
       "    <tr>\n",
       "      <th>DoF</th>\n",
       "      <td>1.000</td>\n",
       "    </tr>\n",
       "    <tr>\n",
       "      <th>ME/TN_Fully Paid/Charged Off_lci</th>\n",
       "      <td>0.690</td>\n",
       "    </tr>\n",
       "    <tr>\n",
       "      <th>ME/TN_Fully Paid/Charged Off_risk</th>\n",
       "      <td>1.180</td>\n",
       "    </tr>\n",
       "    <tr>\n",
       "      <th>ME/TN_Fully Paid/Charged Off_uci</th>\n",
       "      <td>2.010</td>\n",
       "    </tr>\n",
       "    <tr>\n",
       "      <th>p-value</th>\n",
       "      <td>0.008</td>\n",
       "    </tr>\n",
       "  </tbody>\n",
       "</table>\n",
       "</div>"
      ],
      "text/plain": [
       "                                   Cohort Stats\n",
       "DoF                                       1.000\n",
       "ME/TN_Fully Paid/Charged Off_lci          0.690\n",
       "ME/TN_Fully Paid/Charged Off_risk         1.180\n",
       "ME/TN_Fully Paid/Charged Off_uci          2.010\n",
       "p-value                                   0.008"
      ]
     },
     "execution_count": 73,
     "metadata": {},
     "output_type": "execute_result"
    }
   ],
   "source": [
    "chi2_stats(status_counts[[\"Charged Off\", \"Fully Paid\"]].ix[[\"ME\",\"TN\"]])"
   ]
  },
  {
   "cell_type": "code",
   "execution_count": 76,
   "metadata": {
    "collapsed": false
   },
   "outputs": [
    {
     "data": {
      "text/html": [
       "<div>\n",
       "<table border=\"1\" class=\"dataframe\">\n",
       "  <thead>\n",
       "    <tr style=\"text-align: right;\">\n",
       "      <th></th>\n",
       "      <th>Cohort Stats</th>\n",
       "    </tr>\n",
       "  </thead>\n",
       "  <tbody>\n",
       "    <tr>\n",
       "      <th>DoF</th>\n",
       "      <td>1.000</td>\n",
       "    </tr>\n",
       "    <tr>\n",
       "      <th>ME/TN_Fully Paid/Charged Off_lci</th>\n",
       "      <td>0.690</td>\n",
       "    </tr>\n",
       "    <tr>\n",
       "      <th>ME/TN_Fully Paid/Charged Off_risk</th>\n",
       "      <td>1.180</td>\n",
       "    </tr>\n",
       "    <tr>\n",
       "      <th>ME/TN_Fully Paid/Charged Off_uci</th>\n",
       "      <td>2.010</td>\n",
       "    </tr>\n",
       "    <tr>\n",
       "      <th>p-value</th>\n",
       "      <td>0.008</td>\n",
       "    </tr>\n",
       "  </tbody>\n",
       "</table>\n",
       "</div>"
      ],
      "text/plain": [
       "                                   Cohort Stats\n",
       "DoF                                       1.000\n",
       "ME/TN_Fully Paid/Charged Off_lci          0.690\n",
       "ME/TN_Fully Paid/Charged Off_risk         1.180\n",
       "ME/TN_Fully Paid/Charged Off_uci          2.010\n",
       "p-value                                   0.008"
      ]
     },
     "execution_count": 76,
     "metadata": {},
     "output_type": "execute_result"
    }
   ],
   "source": [
    "chi2_stats(status_counts[[\"Charged Off\", \"Fully Paid\"]].ix[[\"ME\",\"TN\"]])"
   ]
  },
  {
   "cell_type": "markdown",
   "metadata": {},
   "source": [
    "For the most extreme pair of ME and TN we applied Chi2 analysis and computed relative the relative risk ratio with 95% confidence intervals. While there is a significant association between the two states and the final status of your loan, the effect size as measured by relative risk does not find a significant effect size. The lower 95% confidence interval is below 1. "
   ]
  },
  {
   "cell_type": "markdown",
   "metadata": {},
   "source": [
    "## Are there significant differences in the earliest credit line, annual income and interest rate between Fully Paid and Charged Off? ##"
   ]
  },
  {
   "cell_type": "code",
   "execution_count": 90,
   "metadata": {
    "collapsed": false
   },
   "outputs": [
    {
     "data": {
      "text/html": [
       "<div>\n",
       "<table border=\"1\" class=\"dataframe\">\n",
       "  <thead>\n",
       "    <tr style=\"text-align: right;\">\n",
       "      <th></th>\n",
       "      <th>annual_inc</th>\n",
       "      <th>earliest_cr_line</th>\n",
       "      <th>int_rate</th>\n",
       "    </tr>\n",
       "  </thead>\n",
       "  <tbody>\n",
       "    <tr>\n",
       "      <th>count</th>\n",
       "      <td>88841.000000</td>\n",
       "      <td>88841.000000</td>\n",
       "      <td>88841.000000</td>\n",
       "    </tr>\n",
       "    <tr>\n",
       "      <th>mean</th>\n",
       "      <td>79507.256459</td>\n",
       "      <td>226.444729</td>\n",
       "      <td>12.558444</td>\n",
       "    </tr>\n",
       "    <tr>\n",
       "      <th>std</th>\n",
       "      <td>70663.392959</td>\n",
       "      <td>88.603598</td>\n",
       "      <td>4.306676</td>\n",
       "    </tr>\n",
       "    <tr>\n",
       "      <th>min</th>\n",
       "      <td>5000.000000</td>\n",
       "      <td>62.133333</td>\n",
       "      <td>5.320000</td>\n",
       "    </tr>\n",
       "    <tr>\n",
       "      <th>25%</th>\n",
       "      <td>49000.000000</td>\n",
       "      <td>171.700000</td>\n",
       "      <td>9.170000</td>\n",
       "    </tr>\n",
       "    <tr>\n",
       "      <th>50%</th>\n",
       "      <td>68000.000000</td>\n",
       "      <td>208.233333</td>\n",
       "      <td>12.290000</td>\n",
       "    </tr>\n",
       "    <tr>\n",
       "      <th>75%</th>\n",
       "      <td>95000.000000</td>\n",
       "      <td>269.100000</td>\n",
       "      <td>15.410000</td>\n",
       "    </tr>\n",
       "    <tr>\n",
       "      <th>max</th>\n",
       "      <td>7600000.000000</td>\n",
       "      <td>816.966667</td>\n",
       "      <td>28.990000</td>\n",
       "    </tr>\n",
       "  </tbody>\n",
       "</table>\n",
       "</div>"
      ],
      "text/plain": [
       "           annual_inc  earliest_cr_line      int_rate\n",
       "count    88841.000000      88841.000000  88841.000000\n",
       "mean     79507.256459        226.444729     12.558444\n",
       "std      70663.392959         88.603598      4.306676\n",
       "min       5000.000000         62.133333      5.320000\n",
       "25%      49000.000000        171.700000      9.170000\n",
       "50%      68000.000000        208.233333     12.290000\n",
       "75%      95000.000000        269.100000     15.410000\n",
       "max    7600000.000000        816.966667     28.990000"
      ]
     },
     "execution_count": 90,
     "metadata": {},
     "output_type": "execute_result"
    }
   ],
   "source": [
    "reduced_features = la.loan_data.query(\"loan_status=='Charged Off'| loan_status=='Fully Paid'\")[[\"loan_status\",\"annual_inc\",\"earliest_cr_line\",\"int_rate\"]]\n",
    "\n",
    "paid_features = reduced_features.query(\"loan_status=='Fully Paid'\").drop(\"loan_status\",axis=1)\n",
    "charged_off_features = reduced_features.query(\"loan_status=='Charged Off'\").drop(\"loan_status\",axis=1)\n",
    "\n",
    "\n",
    "paid_features.describe()"
   ]
  },
  {
   "cell_type": "code",
   "execution_count": 91,
   "metadata": {
    "collapsed": false
   },
   "outputs": [
    {
     "data": {
      "text/html": [
       "<div>\n",
       "<table border=\"1\" class=\"dataframe\">\n",
       "  <thead>\n",
       "    <tr style=\"text-align: right;\">\n",
       "      <th></th>\n",
       "      <th>annual_inc</th>\n",
       "      <th>earliest_cr_line</th>\n",
       "      <th>int_rate</th>\n",
       "    </tr>\n",
       "  </thead>\n",
       "  <tbody>\n",
       "    <tr>\n",
       "      <th>count</th>\n",
       "      <td>30586.000000</td>\n",
       "      <td>30586.000000</td>\n",
       "      <td>30586.000000</td>\n",
       "    </tr>\n",
       "    <tr>\n",
       "      <th>mean</th>\n",
       "      <td>69883.489924</td>\n",
       "      <td>216.814210</td>\n",
       "      <td>15.604064</td>\n",
       "    </tr>\n",
       "    <tr>\n",
       "      <th>std</th>\n",
       "      <td>87493.122074</td>\n",
       "      <td>89.735949</td>\n",
       "      <td>4.441526</td>\n",
       "    </tr>\n",
       "    <tr>\n",
       "      <th>min</th>\n",
       "      <td>4000.000000</td>\n",
       "      <td>62.133333</td>\n",
       "      <td>5.320000</td>\n",
       "    </tr>\n",
       "    <tr>\n",
       "      <th>25%</th>\n",
       "      <td>42500.000000</td>\n",
       "      <td>159.533333</td>\n",
       "      <td>12.590000</td>\n",
       "    </tr>\n",
       "    <tr>\n",
       "      <th>50%</th>\n",
       "      <td>60000.000000</td>\n",
       "      <td>196.033333</td>\n",
       "      <td>15.600000</td>\n",
       "    </tr>\n",
       "    <tr>\n",
       "      <th>75%</th>\n",
       "      <td>83270.700000</td>\n",
       "      <td>256.933333</td>\n",
       "      <td>18.250000</td>\n",
       "    </tr>\n",
       "    <tr>\n",
       "      <th>max</th>\n",
       "      <td>8900060.000000</td>\n",
       "      <td>804.800000</td>\n",
       "      <td>28.990000</td>\n",
       "    </tr>\n",
       "  </tbody>\n",
       "</table>\n",
       "</div>"
      ],
      "text/plain": [
       "           annual_inc  earliest_cr_line      int_rate\n",
       "count    30586.000000      30586.000000  30586.000000\n",
       "mean     69883.489924        216.814210     15.604064\n",
       "std      87493.122074         89.735949      4.441526\n",
       "min       4000.000000         62.133333      5.320000\n",
       "25%      42500.000000        159.533333     12.590000\n",
       "50%      60000.000000        196.033333     15.600000\n",
       "75%      83270.700000        256.933333     18.250000\n",
       "max    8900060.000000        804.800000     28.990000"
      ]
     },
     "execution_count": 91,
     "metadata": {},
     "output_type": "execute_result"
    }
   ],
   "source": [
    "charged_off_features.describe()"
   ]
  },
  {
   "cell_type": "markdown",
   "metadata": {},
   "source": [
    "We observe that fully paid loans on average have a higher annual income, have had a credit line longer, and have experienced a lower interest rate on their loans. We can use a two-sided t-test to determine if there are significant differences in these features between fully paid and charged off. "
   ]
  },
  {
   "cell_type": "code",
   "execution_count": 94,
   "metadata": {
    "collapsed": false
   },
   "outputs": [
    {
     "data": {
      "text/plain": [
       "{'annual_inc_p_value': 1.2842335071861241e-82,\n",
       " 'earliest_cr_line_p_value': 5.8204402897837733e-60,\n",
       " 'int_rate_p_value': 0.0}"
      ]
     },
     "execution_count": 94,
     "metadata": {},
     "output_type": "execute_result"
    }
   ],
   "source": [
    "{\"annual_inc_p_value\":ttest_ind(paid_features[\"annual_inc\"],charged_off_features[\"annual_inc\"]).pvalue,\n",
    " \"earliest_cr_line_p_value\":ttest_ind(paid_features[\"earliest_cr_line\"],charged_off_features[\"earliest_cr_line\"]).pvalue,\n",
    "  \"int_rate_p_value\":ttest_ind(paid_features[\"int_rate\"],charged_off_features[\"int_rate\"]).pvalue}\n",
    " "
   ]
  },
  {
   "cell_type": "markdown",
   "metadata": {},
   "source": [
    "We find that all three features have t-test p-values well below 0.01, therefore we reject the null hypothesis that there is no difference between the two groups. "
   ]
  },
  {
   "cell_type": "markdown",
   "metadata": {},
   "source": [
    "## Are there features that are correlated wtih the assigned sub-grade?##"
   ]
  },
  {
   "cell_type": "code",
   "execution_count": 2,
   "metadata": {
    "collapsed": false
   },
   "outputs": [
    {
     "data": {
      "text/html": [
       "<div>\n",
       "<table border=\"1\" class=\"dataframe\">\n",
       "  <thead>\n",
       "    <tr style=\"text-align: right;\">\n",
       "      <th></th>\n",
       "      <th>dti</th>\n",
       "      <th>revol_util</th>\n",
       "      <th>revol_bal</th>\n",
       "      <th>earliest_cr_line</th>\n",
       "      <th>emp_length</th>\n",
       "      <th>installment</th>\n",
       "      <th>int_rate</th>\n",
       "      <th>sub_grade</th>\n",
       "    </tr>\n",
       "  </thead>\n",
       "  <tbody>\n",
       "    <tr>\n",
       "      <th>dti</th>\n",
       "      <td>1.000000</td>\n",
       "      <td>0.111155</td>\n",
       "      <td>0.159974</td>\n",
       "      <td>0.025141</td>\n",
       "      <td>0.014647</td>\n",
       "      <td>0.016473</td>\n",
       "      <td>0.142466</td>\n",
       "      <td>0.144118</td>\n",
       "    </tr>\n",
       "    <tr>\n",
       "      <th>revol_util</th>\n",
       "      <td>0.111155</td>\n",
       "      <td>1.000000</td>\n",
       "      <td>0.291262</td>\n",
       "      <td>0.014374</td>\n",
       "      <td>0.025418</td>\n",
       "      <td>0.092701</td>\n",
       "      <td>0.148130</td>\n",
       "      <td>0.149101</td>\n",
       "    </tr>\n",
       "    <tr>\n",
       "      <th>revol_bal</th>\n",
       "      <td>0.159974</td>\n",
       "      <td>0.291262</td>\n",
       "      <td>1.000000</td>\n",
       "      <td>0.189124</td>\n",
       "      <td>0.093148</td>\n",
       "      <td>0.333622</td>\n",
       "      <td>-0.052569</td>\n",
       "      <td>-0.053250</td>\n",
       "    </tr>\n",
       "    <tr>\n",
       "      <th>earliest_cr_line</th>\n",
       "      <td>0.025141</td>\n",
       "      <td>0.014374</td>\n",
       "      <td>0.189124</td>\n",
       "      <td>1.000000</td>\n",
       "      <td>0.127758</td>\n",
       "      <td>0.114525</td>\n",
       "      <td>-0.101522</td>\n",
       "      <td>-0.103353</td>\n",
       "    </tr>\n",
       "    <tr>\n",
       "      <th>emp_length</th>\n",
       "      <td>0.014647</td>\n",
       "      <td>0.025418</td>\n",
       "      <td>0.093148</td>\n",
       "      <td>0.127758</td>\n",
       "      <td>1.000000</td>\n",
       "      <td>0.074949</td>\n",
       "      <td>-0.011322</td>\n",
       "      <td>-0.011585</td>\n",
       "    </tr>\n",
       "    <tr>\n",
       "      <th>installment</th>\n",
       "      <td>0.016473</td>\n",
       "      <td>0.092701</td>\n",
       "      <td>0.333622</td>\n",
       "      <td>0.114525</td>\n",
       "      <td>0.074949</td>\n",
       "      <td>1.000000</td>\n",
       "      <td>0.071278</td>\n",
       "      <td>0.071153</td>\n",
       "    </tr>\n",
       "    <tr>\n",
       "      <th>int_rate</th>\n",
       "      <td>0.142466</td>\n",
       "      <td>0.148130</td>\n",
       "      <td>-0.052569</td>\n",
       "      <td>-0.101522</td>\n",
       "      <td>-0.011322</td>\n",
       "      <td>0.071278</td>\n",
       "      <td>1.000000</td>\n",
       "      <td>0.988368</td>\n",
       "    </tr>\n",
       "    <tr>\n",
       "      <th>sub_grade</th>\n",
       "      <td>0.144118</td>\n",
       "      <td>0.149101</td>\n",
       "      <td>-0.053250</td>\n",
       "      <td>-0.103353</td>\n",
       "      <td>-0.011585</td>\n",
       "      <td>0.071153</td>\n",
       "      <td>0.988368</td>\n",
       "      <td>1.000000</td>\n",
       "    </tr>\n",
       "  </tbody>\n",
       "</table>\n",
       "</div>"
      ],
      "text/plain": [
       "                       dti  revol_util  revol_bal  earliest_cr_line  \\\n",
       "dti               1.000000    0.111155   0.159974          0.025141   \n",
       "revol_util        0.111155    1.000000   0.291262          0.014374   \n",
       "revol_bal         0.159974    0.291262   1.000000          0.189124   \n",
       "earliest_cr_line  0.025141    0.014374   0.189124          1.000000   \n",
       "emp_length        0.014647    0.025418   0.093148          0.127758   \n",
       "installment       0.016473    0.092701   0.333622          0.114525   \n",
       "int_rate          0.142466    0.148130  -0.052569         -0.101522   \n",
       "sub_grade         0.144118    0.149101  -0.053250         -0.103353   \n",
       "\n",
       "                  emp_length  installment  int_rate  sub_grade  \n",
       "dti                 0.014647     0.016473  0.142466   0.144118  \n",
       "revol_util          0.025418     0.092701  0.148130   0.149101  \n",
       "revol_bal           0.093148     0.333622 -0.052569  -0.053250  \n",
       "earliest_cr_line    0.127758     0.114525 -0.101522  -0.103353  \n",
       "emp_length          1.000000     0.074949 -0.011322  -0.011585  \n",
       "installment         0.074949     1.000000  0.071278   0.071153  \n",
       "int_rate           -0.011322     0.071278  1.000000   0.988368  \n",
       "sub_grade          -0.011585     0.071153  0.988368   1.000000  "
      ]
     },
     "execution_count": 2,
     "metadata": {},
     "output_type": "execute_result"
    }
   ],
   "source": [
    "la.loan_data[[\"dti\",\"revol_util\",\"revol_bal\",\"earliest_cr_line\",\"emp_length\",\"installment\",\"int_rate\",\"sub_grade\"]].corr(\"kendall\")"
   ]
  },
  {
   "cell_type": "markdown",
   "metadata": {},
   "source": [
    "    We find that the sub_grade and interest rate are highly related (kendal tay 0.98), suggesting that encode equivalent information about the loan risk. We do not find that features related to the debt such as the resolving balance of utilization or the debt to income ratio are significantly correlated with sub_grade. We observed dti and revol_util have low kendall correlations with sub_grade. "
   ]
  },
  {
   "cell_type": "markdown",
   "metadata": {},
   "source": [
    "## Does the loan purpose increase your risk for Charge Off? ##"
   ]
  },
  {
   "cell_type": "code",
   "execution_count": 71,
   "metadata": {
    "collapsed": false
   },
   "outputs": [
    {
     "data": {
      "image/png": "[encoded data removed]",
      "text/plain": [
       "<matplotlib.figure.Figure at 0x11347b3c8>"
      ]
     },
     "metadata": {},
     "output_type": "display_data"
    }
   ],
   "source": [
    "purpose_status = la.original_data[[\"purpose\",\"loan_status\"]].groupby([\"purpose\",\"loan_status\"]).size().unstack().fillna(0)\n",
    "purpose_status_normed = purpose_status.div(purpose_status.sum(axis=1),axis=0)\n",
    "ax = purpose_status_normed[\"Charged Off\"].plot(figsize=(20,10),kind=\"bar\")\n",
    "_= ax.set_title(\"Charge Off Rates by Loan Purpose\")\n",
    "\n"
   ]
  },
  {
   "cell_type": "markdown",
   "metadata": {},
   "source": [
    "Education and Wedding are underepresented in the data. Of the purposes that are represented in the data, purposes relating to credit cards and debt consolidation appear to be lower risk while those relating to renewabe energy and small businesses appear to be higher risk.  Again, we can apply Chi2 analysis and compute risk ratios to see if there are significant differences in the risk "
   ]
  },
  {
   "cell_type": "code",
   "execution_count": 74,
   "metadata": {
    "collapsed": false
   },
   "outputs": [
    {
     "data": {
      "text/html": [
       "<div>\n",
       "<table border=\"1\" class=\"dataframe\">\n",
       "  <thead>\n",
       "    <tr style=\"text-align: right;\">\n",
       "      <th></th>\n",
       "      <th>Cohort Stats</th>\n",
       "    </tr>\n",
       "  </thead>\n",
       "  <tbody>\n",
       "    <tr>\n",
       "      <th>DoF</th>\n",
       "      <td>1.00</td>\n",
       "    </tr>\n",
       "    <tr>\n",
       "      <th>car/small_business_Fully Paid/Charged Off_lci</th>\n",
       "      <td>1.15</td>\n",
       "    </tr>\n",
       "    <tr>\n",
       "      <th>car/small_business_Fully Paid/Charged Off_risk</th>\n",
       "      <td>1.32</td>\n",
       "    </tr>\n",
       "    <tr>\n",
       "      <th>car/small_business_Fully Paid/Charged Off_uci</th>\n",
       "      <td>1.52</td>\n",
       "    </tr>\n",
       "    <tr>\n",
       "      <th>p-value</th>\n",
       "      <td>0.00</td>\n",
       "    </tr>\n",
       "  </tbody>\n",
       "</table>\n",
       "</div>"
      ],
      "text/plain": [
       "                                                Cohort Stats\n",
       "DoF                                                     1.00\n",
       "car/small_business_Fully Paid/Charged Off_lci           1.15\n",
       "car/small_business_Fully Paid/Charged Off_risk          1.32\n",
       "car/small_business_Fully Paid/Charged Off_uci           1.52\n",
       "p-value                                                 0.00"
      ]
     },
     "execution_count": 74,
     "metadata": {},
     "output_type": "execute_result"
    }
   ],
   "source": [
    "chi2_stats(purpose_status[[\"Charged Off\", \"Fully Paid\"]].ix[[\"car\",\"small_business\"]])"
   ]
  },
  {
   "cell_type": "code",
   "execution_count": 75,
   "metadata": {
    "collapsed": false
   },
   "outputs": [
    {
     "data": {
      "text/html": [
       "<div>\n",
       "<table border=\"1\" class=\"dataframe\">\n",
       "  <thead>\n",
       "    <tr style=\"text-align: right;\">\n",
       "      <th></th>\n",
       "      <th>Cohort Stats</th>\n",
       "    </tr>\n",
       "  </thead>\n",
       "  <tbody>\n",
       "    <tr>\n",
       "      <th>DoF</th>\n",
       "      <td>1.00</td>\n",
       "    </tr>\n",
       "    <tr>\n",
       "      <th>credit_card/small_business_Fully Paid/Charged Off_lci</th>\n",
       "      <td>1.19</td>\n",
       "    </tr>\n",
       "    <tr>\n",
       "      <th>credit_card/small_business_Fully Paid/Charged Off_risk</th>\n",
       "      <td>1.28</td>\n",
       "    </tr>\n",
       "    <tr>\n",
       "      <th>credit_card/small_business_Fully Paid/Charged Off_uci</th>\n",
       "      <td>1.38</td>\n",
       "    </tr>\n",
       "    <tr>\n",
       "      <th>p-value</th>\n",
       "      <td>0.00</td>\n",
       "    </tr>\n",
       "  </tbody>\n",
       "</table>\n",
       "</div>"
      ],
      "text/plain": [
       "                                                    Cohort Stats\n",
       "DoF                                                         1.00\n",
       "credit_card/small_business_Fully Paid/Charged O...          1.19\n",
       "credit_card/small_business_Fully Paid/Charged O...          1.28\n",
       "credit_card/small_business_Fully Paid/Charged O...          1.38\n",
       "p-value                                                     0.00"
      ]
     },
     "execution_count": 75,
     "metadata": {},
     "output_type": "execute_result"
    }
   ],
   "source": [
    "chi2_stats(purpose_status[[\"Charged Off\", \"Fully Paid\"]].ix[[\"credit_card\",\"small_business\"]])"
   ]
  },
  {
   "cell_type": "markdown",
   "metadata": {},
   "source": [
    "There is a significant association between wehther your purpose is credit_card or small_business and the outcome of your loan.  There is a similarly significant association for car and small business. In terms of effect size, for both credit card and car you are about 1.3 times more likely to be Fully Paid than Charged Off. "
   ]
  }
 ],
 "metadata": {
  "kernelspec": {
   "display_name": "Python 3",
   "language": "python",
   "name": "python3"
  },
  "language_info": {
   "codemirror_mode": {
    "name": "ipython",
    "version": 3
   },
   "file_extension": ".py",
   "mimetype": "text/x-python",
   "name": "python",
   "nbconvert_exporter": "python",
   "pygments_lexer": "ipython3",
   "version": "3.5.1"
  }
 },
 "nbformat": 4,
 "nbformat_minor": 0
}
