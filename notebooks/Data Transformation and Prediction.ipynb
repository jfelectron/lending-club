{
 "cells": [
  {
   "cell_type": "code",
   "execution_count": 7,
   "metadata": {
    "collapsed": false
   },
   "outputs": [],
   "source": [
    "%matplotlib inline\n",
    "from IPython.display import display\n",
    "import matplotlib\n",
    "import matplotlib.pyplot as plt\n",
    "import matplotlib.pylab as pylab\n",
    "import numpy as np\n",
    "from lending_club.loan_prediction.loan_predictor import LoanPredictor"
   ]
  },
  {
   "cell_type": "code",
   "execution_count": 2,
   "metadata": {
    "collapsed": false
   },
   "outputs": [
    {
     "name": "stdout",
     "output_type": "stream",
     "text": [
      "loaded /Users/jonathan/Documents/Repos/lending_club/data/LoanStats3d.csv\n",
      "handling missing data...\n",
      "transforming features...\n"
     ]
    },
    {
     "name": "stderr",
     "output_type": "stream",
     "text": [
      "/usr/local/lib/python3.5/site-packages/ipykernel/__main__.py:1: DtypeWarning: Columns (0,19,55) have mixed types. Specify dtype option on import or set low_memory=False.\n",
      "  if __name__ == '__main__':\n"
     ]
    }
   ],
   "source": [
    "lp = LoanPredictor()"
   ]
  },
  {
   "cell_type": "markdown",
   "metadata": {},
   "source": [
    "## Goal ##\n",
    "\n",
    "The goal was to train a model that can predict which loans will be fully paid versus charged off at the time they are issued. These represent a loss versus a return for an investor. The loans in the data have other states such current and late, which have unkown risks of charging off. The dataset is not longitudinal but merely a snapshot in time. "
   ]
  },
  {
   "cell_type": "markdown",
   "metadata": {},
   "source": [
    "## Missing Features ##\n",
    "\n",
    "Notably missing from the Lending Club datasets are FICO or other credit related scores. These features are indicated in the data dictionary but appear to have been stripped. Additional features present in the data dictionary are also not present in the data. "
   ]
  },
  {
   "cell_type": "markdown",
   "metadata": {},
   "source": [
    "## Dataset ##\n",
    "\n",
    "The 2015 sample of Loan stats was used for analysis and modeling. This represents 421097 rows with 111 columns. "
   ]
  },
  {
   "cell_type": "markdown",
   "metadata": {},
   "source": [
    "## Feature Engineering ##\n",
    "\n",
    "\n",
    "### Removing Future Features ###\n",
    "Since the goal is to predict the risk of charge off at the time that a loan is applied for and issued, we dropped all features that pertain to the ongoing financial history of the customer and features related to repayment and payments made.  We retained features that would have been known at the time of underwriting. \n",
    "\n",
    "\n",
    "### Missing Data ###\n",
    "\n",
    "- 2 loans were missing loan amounts and were dropped. \n",
    "- The revolving credit utilization (revol_util) was convered from a string percentage to a a float.  The missing revolving utilizations were imputed with the median from the entire dataset. \n",
    "- Missing number of reolving accounts was assumed to represent no accounts and filled with 0. \n",
    "- Similarly, months since oldest bank installment was filled with 0 when missing. \n",
    "\n",
    "\n",
    "### Feature Transformation ###\n",
    "\n",
    "- **earliest_cr_line**:  The earliest credit line was transformed from a date to months since\n",
    "- **int_rate**: The interest rate was transformed froma  a string percentage to a float\n",
    "- **issue_d**:  To see if the month in which a loan is issue impacts the charge off risk, the month was extracted  from the issue  data\n",
    "\n",
    "\n",
    "### Feature Removal ###\n",
    "\n",
    "- **descriiption**: missing on more than 80% of the loans, no text analysis performed\n",
    "- **title**:  free-form user supplied, mostly overlaps with purpose but it less structured\n",
    "- **zip-code**: high-cardinality, would be useful for joining with external economic data but not here\n",
    "- **emp-title**:  high-cardinality, effort would be required to normalize titles\n",
    "- **joint applications**:  represent a very small minority of loans, too few to reasonably learn from\n",
    "- **grade**: sub-grade was chosen for more granularity. Grade and sub-grade are redundant. \n",
    "\n",
    "\n",
    "### Feature Coding ###\n",
    "\n",
    "- **ordinal features**: employment length and subgrade were treated as ordinal features and coded as ranked integers\n",
    "- **categorical features**: \"verification_status\",\"issue_d\",\"term\",\"home_ownership\",\"purpose\",\"addr_state\" were dummy encoded\n",
    "\n",
    "### Data Labeling###\n",
    "\n",
    "As stated the goal is to predict between two classes: Fully Paid and Charged Off. All other loan statuses represent intermediate states with unknown associated risks for eventually charging off.  The dataset is effectively censored with the majority of loans in progress and about 25% of the loans being fully mature.  Fully Paid was given the label 1 and Charged Off was given the label 0. All other statuses were dropped from the data used for modeling. \n",
    "\n"
   ]
  },
  {
   "cell_type": "markdown",
   "metadata": {},
   "source": [
    "## Imbalanced Classes and Undersampling ##\n",
    "\n",
    "More than 75% of the loans in the dataset have a status Fully Paid with less then 25% have the status Charged Off. When presented with such inbalanced classes, most classifiers tend to overfit to the majority class and ignore the minority class. To ameliorate this, undersampling and oversampling techniques can be employed during training. While numerious statistical approaches to sampling exist, none that I find are compatabile with the sci-kit learn GridSearchCV model tuning pclages.  I chose to use basic random undersampling of the majority class.  Importantly, undersampling was only used during training. The model was evaluated on the original imbalanced dataset. \n"
   ]
  },
  {
   "cell_type": "markdown",
   "metadata": {},
   "source": [
    "## Model Selection##\n",
    "\n",
    "A gradient boosting classifer provide by by the xgboost package was chosen.  A boosted tree method was employed because they produce interpretable models and tend to perform well with a sizeable number of features. Additionaly, the boosting often affords better perfornmance than non-boosted binary classifiers such as logistic regression.   The xgboost implementation is fast, which makes hyperparameter tuning feasible on a a larger dataset and regularized, which limits the potential for overfitting. \n",
    "\n",
    "Hyperparameters were tuned using GridSearchCV from scikit-lean. The model was scored using ROC-AUC. This was chosen to detect poor performance on the minority class. \n",
    "\n",
    "Due to the size of the data, running the search took many hours on a 4 core machine.  The best parameters from the search were used for final model evaluation.\n",
    "\n"
   ]
  },
  {
   "cell_type": "markdown",
   "metadata": {},
   "source": [
    "## Model Evaluation ##"
   ]
  },
  {
   "cell_type": "code",
   "execution_count": 3,
   "metadata": {
    "collapsed": false
   },
   "outputs": [
    {
     "data": {
      "text/plain": [
       "{'precision': 0.86638243518486557, 'recall': 0.63005083788363769}"
      ]
     },
     "execution_count": 3,
     "metadata": {},
     "output_type": "execute_result"
    }
   ],
   "source": [
    "cm, metrics = lp.train_test()\n",
    "metrics"
   ]
  },
  {
   "cell_type": "markdown",
   "metadata": {},
   "source": [
    "The best model when tested on non-undersampled data has a precision of 0.86 and a recall of 0.64. For the purposes of an investor choosing which loans to invest it this is is a great start. Precision is more important because we don't want to choose a loan that is going to be Charged Off.  The recall would ideally be better, it means that we'd be loosing investment opportunities because good loans would be labeled as bad loans. "
   ]
  },
  {
   "cell_type": "markdown",
   "metadata": {},
   "source": [
    "## Model Interpretation ##"
   ]
  },
  {
   "cell_type": "code",
   "execution_count": 14,
   "metadata": {
    "collapsed": false
   },
   "outputs": [
    {
     "data": {
      "image/png": "[encoded data removed]",
      "text/plain": [
       "<matplotlib.figure.Figure at 0x11324a4e0>"
      ]
     },
     "metadata": {},
     "output_type": "display_data"
    }
   ],
   "source": [
    "feature_importances = lp.feature_importances()\n",
    "ax = feature_importances.iloc[:10].plot(figsize=(10,10),kind=\"bar\")\n",
    "ax.set_title(\"Top 10 Important Features\")\n",
    "_ = ax.set_ylabel(\"Relative Importance\")\n",
    "\n"
   ]
  },
  {
   "cell_type": "markdown",
   "metadata": {},
   "source": [
    "Features relatedt to the amount of debt and the debt to income ratio held appear to be most important to predicting the outcome of a loan.  Interestingly, the loand installment payment is more important than the overall loan amount. This likely impacts monthly cash flow more and could place someone at greater risk of defaulting and eventually being Charged Off.  It is also interesting that the lenght of time one has had a revolving account is more impoortant than the interest rate on the loan in predicting the outcome. "
   ]
  },
  {
   "cell_type": "markdown",
   "metadata": {},
   "source": [
    "## Next Steps ##\n",
    "\n",
    "- investigate using macroeconomic features (e.g. median income, umeploymnent rates) from governmental sources. Only the first three digits of the zipcode are given so a median/mean approach would have to be taken\n",
    "\n",
    "- expand the grid search for model hyperparameter tuning. Due to time constraints, I only ran a limited set of parameters and values. \n",
    "\n",
    "- consider incporating text based fetures from the description or job title"
   ]
  }
 ],
 "metadata": {
  "kernelspec": {
   "display_name": "Python 3",
   "language": "python",
   "name": "python3"
  },
  "language_info": {
   "codemirror_mode": {
    "name": "ipython",
    "version": 3
   },
   "file_extension": ".py",
   "mimetype": "text/x-python",
   "name": "python",
   "nbconvert_exporter": "python",
   "pygments_lexer": "ipython3",
   "version": "3.5.1"
  }
 },
 "nbformat": 4,
 "nbformat_minor": 0
}
